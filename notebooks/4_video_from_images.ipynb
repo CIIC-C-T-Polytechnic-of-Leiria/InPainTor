{
 "cells": [
  {
   "metadata": {
    "ExecuteTime": {
     "end_time": "2024-06-27T22:38:10.469612Z",
     "start_time": "2024-06-27T22:38:10.466440Z"
    }
   },
   "cell_type": "code",
   "source": [
    "import importlib\n",
    "import sys\n",
    "\n",
    "sys.path.insert(0, '../src')\n",
    "import visualizations\n",
    "\n",
    "importlib.reload(visualizations)\n",
    "\n",
    "from visualizations import video_from_images"
   ],
   "id": "feb7e107f6c6a82e",
   "outputs": [],
   "execution_count": 2
  },
  {
   "metadata": {},
   "cell_type": "code",
   "outputs": [],
   "execution_count": null,
   "source": [
    "video_from_images(image_folder=\"/home/tiagociiic/Projects/InpainTor/logs/images\",\n",
    "                  output_video_path=\"/home/tiagociiic/Projects/InpainTor/logs/video.mp4\", fps=30)"
   ],
   "id": "75c858021dfe495"
  }
 ],
 "metadata": {
  "kernelspec": {
   "display_name": "Python 3",
   "language": "python",
   "name": "python3"
  },
  "language_info": {
   "codemirror_mode": {
    "name": "ipython",
    "version": 2
   },
   "file_extension": ".py",
   "mimetype": "text/x-python",
   "name": "python",
   "nbconvert_exporter": "python",
   "pygments_lexer": "ipython2",
   "version": "2.7.6"
  }
 },
 "nbformat": 4,
 "nbformat_minor": 5
}
