{
 "cells": [
  {
   "metadata": {
    "ExecuteTime": {
     "end_time": "2024-07-02T10:32:46.128051Z",
     "start_time": "2024-07-02T10:32:45.252771Z"
    }
   },
   "cell_type": "code",
   "source": [
    "import importlib\n",
    "import sys\n",
    "\n",
    "sys.path.insert(0, '../src')\n",
    "import visualizations\n",
    "\n",
    "importlib.reload(visualizations)\n",
    "\n",
    "from visualizations import video_from_images"
   ],
   "id": "feb7e107f6c6a82e",
   "outputs": [],
   "execution_count": 1
  },
  {
   "metadata": {
    "ExecuteTime": {
     "end_time": "2024-06-27T23:13:12.637883Z",
     "start_time": "2024-06-27T23:12:51.406671Z"
    }
   },
   "cell_type": "code",
   "source": [
    "video_from_images(image_folder=\"/home/tiagociiic/Projects/InpainTor/logs/images\",\n",
    "                  output_video_path=\"/home/tiagociiic/Projects/InpainTor/outputs/debug/video.mp4\", fps=5)"
   ],
   "id": "75c858021dfe495",
   "outputs": [
    {
     "name": "stdout",
     "output_type": "stream",
     "text": [
      "Found 50 images. Starting video creation...\n"
     ]
    },
    {
     "name": "stderr",
     "output_type": "stream",
     "text": [
      "Processing images: 100%|\u001B[32m██████████\u001B[0m| 50/50 [00:21<00:00,  2.37image/s]"
     ]
    },
    {
     "name": "stdout",
     "output_type": "stream",
     "text": [
      "Video successfully saved at: /home/tiagociiic/Projects/InpainTor/outputs/debug/video.mp4\n",
      "Video details: 50 frames, 5 fps\n"
     ]
    },
    {
     "name": "stderr",
     "output_type": "stream",
     "text": [
      "\n"
     ]
    }
   ],
   "execution_count": 28
  },
  {
   "metadata": {
    "ExecuteTime": {
     "end_time": "2024-07-02T13:29:12.930167Z",
     "start_time": "2024-07-02T13:29:04.582529Z"
    }
   },
   "cell_type": "code",
   "source": [
    "video_from_images(\"/home/tiagociiic/Projects/InpainTor/logs/images/val_images\",\n",
    "                  \"/home/tiagociiic/Projects/InpainTor/outputs/debug/video_val_images.mp4\", fps=2)"
   ],
   "id": "42b5863ebd8b3a7b",
   "outputs": [
    {
     "name": "stdout",
     "output_type": "stream",
     "text": [
      "Found 20 images. Starting video creation...\n"
     ]
    },
    {
     "name": "stderr",
     "output_type": "stream",
     "text": [
      "Processing images:  10%|\u001B[32m█         \u001B[0m| 2/20 [00:00<00:07,  2.30image/s][rawvideo @ 0x71ef540] Stream #0: not enough frames to estimate rate; consider increasing probesize\n",
      "Processing images: 100%|\u001B[32m██████████\u001B[0m| 20/20 [00:08<00:00,  2.44image/s]"
     ]
    },
    {
     "name": "stdout",
     "output_type": "stream",
     "text": [
      "Video successfully saved at: /home/tiagociiic/Projects/InpainTor/outputs/debug/video_val_images.mp4\n",
      "Video details: 20 frames, 2 fps\n"
     ]
    },
    {
     "name": "stderr",
     "output_type": "stream",
     "text": [
      "\n"
     ]
    }
   ],
   "execution_count": 9
  },
  {
   "metadata": {
    "ExecuteTime": {
     "end_time": "2024-07-02T12:32:07.630108Z",
     "start_time": "2024-07-02T12:32:04.767574Z"
    }
   },
   "cell_type": "code",
   "source": [
    "video_from_images(\"/home/tiagociiic/Projects/InpainTor/outputs/debug\",\n",
    "                  \"/home/tiagociiic/Projects/InpainTor/outputs/debug/video_threshold.mp4\", fps=5)"
   ],
   "id": "202bc4c6390993f0",
   "outputs": [
    {
     "name": "stdout",
     "output_type": "stream",
     "text": [
      "Found 200 images. Starting video creation...\n"
     ]
    },
    {
     "name": "stderr",
     "output_type": "stream",
     "text": [
      "Processing images: 100%|\u001B[32m██████████\u001B[0m| 200/200 [00:02<00:00, 72.69image/s]\n"
     ]
    },
    {
     "name": "stdout",
     "output_type": "stream",
     "text": [
      "Video successfully saved at: /home/tiagociiic/Projects/InpainTor/outputs/debug/video_threshold.mp4\n",
      "Video details: 200 frames, 5 fps\n"
     ]
    }
   ],
   "execution_count": 7
  }
 ],
 "metadata": {
  "kernelspec": {
   "display_name": "Python 3",
   "language": "python",
   "name": "python3"
  },
  "language_info": {
   "codemirror_mode": {
    "name": "ipython",
    "version": 2
   },
   "file_extension": ".py",
   "mimetype": "text/x-python",
   "name": "python",
   "nbconvert_exporter": "python",
   "pygments_lexer": "ipython2",
   "version": "2.7.6"
  }
 },
 "nbformat": 4,
 "nbformat_minor": 5
}
