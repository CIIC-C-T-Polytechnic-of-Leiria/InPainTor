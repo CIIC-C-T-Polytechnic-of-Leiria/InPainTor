{
 "cells": [
  {
   "metadata": {
    "ExecuteTime": {
     "end_time": "2024-06-27T22:52:38.913025Z",
     "start_time": "2024-06-27T22:52:38.908946Z"
    }
   },
   "cell_type": "code",
   "source": [
    "import importlib\n",
    "import sys\n",
    "\n",
    "sys.path.insert(0, '../src')\n",
    "import visualizations\n",
    "\n",
    "importlib.reload(visualizations)\n",
    "\n",
    "from visualizations import video_from_images"
   ],
   "id": "feb7e107f6c6a82e",
   "outputs": [],
   "execution_count": 19
  },
  {
   "metadata": {
    "ExecuteTime": {
     "end_time": "2024-06-27T22:52:38.907751Z",
     "start_time": "2024-06-27T22:51:58.721985Z"
    }
   },
   "cell_type": "code",
   "source": [
    "video_from_images(image_folder=\"/home/tiagociiic/Projects/InpainTor/logs/images\",\n",
    "                  output_video_path=\"/home/tiagociiic/Projects/InpainTor/outputs/debug/video.mp4\", fps=5)"
   ],
   "id": "75c858021dfe495",
   "outputs": [
    {
     "name": "stdout",
     "output_type": "stream",
     "text": [
      "Found 100 images. Starting video creation...\n"
     ]
    },
    {
     "name": "stderr",
     "output_type": "stream",
     "text": [
      "Processing images: 100%|██████████| 100/100 [00:39<00:00,  2.50image/s]\n"
     ]
    },
    {
     "name": "stdout",
     "output_type": "stream",
     "text": [
      "Video successfully saved at: /home/tiagociiic/Projects/InpainTor/outputs/debug/video.mp4\n",
      "Video details: 100 frames, 10 fps\n"
     ]
    }
   ],
   "execution_count": 18
  }
 ],
 "metadata": {
  "kernelspec": {
   "display_name": "Python 3",
   "language": "python",
   "name": "python3"
  },
  "language_info": {
   "codemirror_mode": {
    "name": "ipython",
    "version": 2
   },
   "file_extension": ".py",
   "mimetype": "text/x-python",
   "name": "python",
   "nbconvert_exporter": "python",
   "pygments_lexer": "ipython2",
   "version": "2.7.6"
  }
 },
 "nbformat": 4,
 "nbformat_minor": 5
}
