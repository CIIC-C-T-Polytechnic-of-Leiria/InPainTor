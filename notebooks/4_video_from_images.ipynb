{
 "cells": [
  {
   "metadata": {
    "ExecuteTime": {
     "end_time": "2024-06-27T23:11:21.284526Z",
     "start_time": "2024-06-27T23:11:21.279679Z"
    }
   },
   "cell_type": "code",
   "source": [
    "import importlib\n",
    "import sys\n",
    "\n",
    "sys.path.insert(0, '../src')\n",
    "import visualizations\n",
    "\n",
    "importlib.reload(visualizations)\n",
    "\n",
    "from visualizations import video_from_images"
   ],
   "id": "feb7e107f6c6a82e",
   "outputs": [],
   "execution_count": 26
  },
  {
   "metadata": {
    "ExecuteTime": {
     "end_time": "2024-06-27T23:13:12.637883Z",
     "start_time": "2024-06-27T23:12:51.406671Z"
    }
   },
   "cell_type": "code",
   "source": [
    "video_from_images(image_folder=\"/home/tiagociiic/Projects/InpainTor/logs/images\",\n",
    "                  output_video_path=\"/home/tiagociiic/Projects/InpainTor/outputs/debug/video.mp4\", fps=5)"
   ],
   "id": "75c858021dfe495",
   "outputs": [
    {
     "name": "stdout",
     "output_type": "stream",
     "text": [
      "Found 50 images. Starting video creation...\n"
     ]
    },
    {
     "name": "stderr",
     "output_type": "stream",
     "text": [
      "Processing images: 100%|\u001B[32m██████████\u001B[0m| 50/50 [00:21<00:00,  2.37image/s]"
     ]
    },
    {
     "name": "stdout",
     "output_type": "stream",
     "text": [
      "Video successfully saved at: /home/tiagociiic/Projects/InpainTor/outputs/debug/video.mp4\n",
      "Video details: 50 frames, 5 fps\n"
     ]
    },
    {
     "name": "stderr",
     "output_type": "stream",
     "text": [
      "\n"
     ]
    }
   ],
   "execution_count": 28
  }
 ],
 "metadata": {
  "kernelspec": {
   "display_name": "Python 3",
   "language": "python",
   "name": "python3"
  },
  "language_info": {
   "codemirror_mode": {
    "name": "ipython",
    "version": 2
   },
   "file_extension": ".py",
   "mimetype": "text/x-python",
   "name": "python",
   "nbconvert_exporter": "python",
   "pygments_lexer": "ipython2",
   "version": "2.7.6"
  }
 },
 "nbformat": 4,
 "nbformat_minor": 5
}
