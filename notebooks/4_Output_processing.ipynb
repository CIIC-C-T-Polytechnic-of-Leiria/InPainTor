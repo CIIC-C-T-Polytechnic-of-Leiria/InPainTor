{
 "cells": [
  {
   "cell_type": "code",
   "id": "initial_id",
   "metadata": {
    "collapsed": true,
    "ExecuteTime": {
     "end_time": "2024-06-17T17:41:10.455519Z",
     "start_time": "2024-06-17T17:41:10.450394Z"
    }
   },
   "source": [
    "import os\n",
    "\n",
    "import imageio.v2 as imageio\n",
    "from PIL import Image\n",
    "\n",
    "\n",
    "def generate_video_from_images(image_folder: str, output_video_path: str, fps: int = 30) -> None:\n",
    "    \"\"\"\n",
    "    Generate a video from a sequence of ordered images.\n",
    "\n",
    "    Parameters:\n",
    "    image_folder (str): Path to the folder containing the images.\n",
    "    output_video_path (str): Path to the output video file.\n",
    "    fps (int): Frames per second of the video.\n",
    "\n",
    "    Returns:\n",
    "    None\n",
    "    \"\"\"\n",
    "    images = [os.path.join(image_folder, img) for img in sorted(os.listdir(image_folder)) if\n",
    "              img.endswith(('.png', '.jpg', '.jpeg'))]\n",
    "\n",
    "    if not images:\n",
    "        print(\"No images found in the specified folder.\")\n",
    "        return\n",
    "\n",
    "    def adjust_image_size(image_path: str) -> Image:\n",
    "        img = Image.open(image_path)\n",
    "        width, height = img.size\n",
    "        new_width = (width + 15) // 16 * 16\n",
    "        new_height = (height + 15) // 16 * 16\n",
    "        if (new_width, new_height) != (width, height):\n",
    "            img = img.resize((new_width, new_height), Image.Resampling.BICUBIC)\n",
    "        return img\n",
    "\n",
    "    with imageio.get_writer(output_video_path, fps=fps) as writer:\n",
    "        for image_path in images:\n",
    "            image = adjust_image_size(image_path)\n",
    "\n",
    "    print(f\"Video saved at: {output_video_path}\")"
   ],
   "outputs": [],
   "execution_count": 39
  },
  {
   "metadata": {
    "ExecuteTime": {
     "end_time": "2024-06-17T16:21:33.996035Z",
     "start_time": "2024-06-17T16:21:33.990437Z"
    }
   },
   "cell_type": "code",
   "source": [
    "base_dir = os.path.dirname(os.getcwd())\n",
    "img_dir = os.path.join(base_dir, 'logs', 'images')\n",
    "output_video_file = os.path.join(base_dir, 'logs', 'output_InPainTor_tiny_test_.mp4')\n",
    "print(f\"base_dir: {base_dir}\\nimg_dir: {img_dir}\\noutput_video_file: {output_video_file}\")\n",
    "generate_video_from_images(img_dir, output_video_file, 20)"
   ],
   "id": "3d80310f1b5a9c55",
   "outputs": [
    {
     "name": "stdout",
     "output_type": "stream",
     "text": [
      "base_dir: /home/tiagociiic/Projects/InpainTor\n",
      "img_dir: /home/tiagociiic/Projects/InpainTor/logs/images\n",
      "output_video_file: /home/tiagociiic/Projects/InpainTor/logs/output_InPainTor_tiny_test_.mp4\n"
     ]
    }
   ],
   "execution_count": 36
  }
 ],
 "metadata": {
  "kernelspec": {
   "display_name": "Python 3",
   "language": "python",
   "name": "python3"
  },
  "language_info": {
   "codemirror_mode": {
    "name": "ipython",
    "version": 2
   },
   "file_extension": ".py",
   "mimetype": "text/x-python",
   "name": "python",
   "nbconvert_exporter": "python",
   "pygments_lexer": "ipython2",
   "version": "2.7.6"
  }
 },
 "nbformat": 4,
 "nbformat_minor": 5
}
