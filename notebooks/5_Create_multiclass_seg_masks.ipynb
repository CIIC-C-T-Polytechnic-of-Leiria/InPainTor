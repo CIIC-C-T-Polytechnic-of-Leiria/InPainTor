{
 "cells": [
  {
   "metadata": {},
   "cell_type": "markdown",
   "source": "## Libraries",
   "id": "25038c83608f7306"
  },
  {
   "metadata": {
    "ExecuteTime": {
     "end_time": "2024-06-26T12:59:58.621056Z",
     "start_time": "2024-06-26T12:59:58.618035Z"
    }
   },
   "cell_type": "code",
   "source": [
    "import json\n",
    "import os\n",
    "from glob import glob\n",
    "\n",
    "import matplotlib.pyplot as plt\n",
    "import numpy as np\n",
    "from PIL import Image\n",
    "from tqdm import tqdm"
   ],
   "id": "adf5e04b43995dd2",
   "outputs": [],
   "execution_count": 35
  },
  {
   "metadata": {},
   "cell_type": "markdown",
   "source": "### Load the COCO classes JSON file",
   "id": "63c8deabae890954"
  },
  {
   "metadata": {
    "ExecuteTime": {
     "end_time": "2024-06-26T12:59:58.630901Z",
     "start_time": "2024-06-26T12:59:58.626265Z"
    }
   },
   "cell_type": "code",
   "source": [
    "with open('../assets/coco_classes.json') as f:\n",
    "    coco_classes = json.load(f)['objects']\n",
    "coco_classes = {obj['id']: obj['name'] for obj in coco_classes}\n",
    "print(coco_classes)"
   ],
   "id": "143f91a60ec489b0",
   "outputs": [
    {
     "name": "stdout",
     "output_type": "stream",
     "text": [
      "{0: 'person', 1: 'bicycle', 2: 'car', 3: 'motorcycle', 4: 'airplane', 5: 'bus', 6: 'train', 7: 'truck', 8: 'boat', 9: 'traffic light', 10: 'fire hydrant', 11: 'stop sign', 12: 'parking meter', 13: 'bench', 14: 'bird', 15: 'cat', 16: 'dog', 17: 'horse', 18: 'sheep', 19: 'cow', 20: 'elephant', 21: 'bear', 22: 'zebra', 23: 'giraffe', 24: 'backpack', 25: 'umbrella', 26: 'handbag', 27: 'tie', 28: 'suitcase', 29: 'frisbee', 30: 'skis', 31: 'snowboard', 32: 'sports ball', 33: 'kite', 34: 'baseball bat', 35: 'baseball glove', 36: 'skateboard', 37: 'surfboard', 38: 'tennis racket', 39: 'bottle', 40: 'wine glass', 41: 'cup', 42: 'fork', 43: 'knife', 44: 'spoon', 45: 'bowl', 46: 'banana', 47: 'apple', 48: 'sandwich', 49: 'orange', 50: 'broccoli', 51: 'carrot', 52: 'hot dog', 53: 'pizza', 54: 'donut', 55: 'cake', 56: 'chair', 57: 'couch', 58: 'potted plant', 59: 'bed', 60: 'dining table', 61: 'toilet', 62: 'tv', 63: 'laptop', 64: 'mouse', 65: 'remote', 66: 'keyboard', 67: 'cell phone', 68: 'microwave', 69: 'oven', 70: 'toaster', 71: 'sink', 72: 'refrigerator', 73: 'book', 74: 'clock', 75: 'vase', 76: 'scissors', 77: 'teddy bear', 78: 'hair drier', 79: 'toothbrush'}\n"
     ]
    }
   ],
   "execution_count": 36
  },
  {
   "metadata": {},
   "cell_type": "markdown",
   "source": "### Create a multiclass segmentation mask",
   "id": "924b68647d77fe69"
  },
  {
   "metadata": {
    "ExecuteTime": {
     "end_time": "2024-06-26T12:59:58.638318Z",
     "start_time": "2024-06-26T12:59:58.632401Z"
    }
   },
   "cell_type": "code",
   "source": [
    "def create_multiclass_mask(base_dir: str, output_dir: str, class_dict: dict, image_size=(512, 512)):\n",
    "    \"\"\"\n",
    "    Create a multiclass segmentation mask from binary masks in the COCO format.\n",
    "    \n",
    "    Parameters:\n",
    "        base_dir : str\n",
    "            Path to the directory containing the binary masks for each class.\n",
    "            The directory should have one subdirectory for each class, with the class ID as the directory name.\n",
    "            The binary masks should be PNG images with the same name as the corresponding image file.\n",
    "            The binary masks should have values of 0 or 255.\n",
    "        output_dir : str\n",
    "            Path to the output directory where the multiclass masks will be saved.\n",
    "        image_size : tuple, optional\n",
    "            Size of the output multiclass masks. The default is (512, 512).\n",
    "        class_dict: dict, optional\n",
    "         \n",
    "    \"\"\"\n",
    "\n",
    "    # Create output directory if it does not exist\n",
    "    os.makedirs(output_dir, exist_ok=True)\n",
    "\n",
    "    # List all image files across all subdirectories in the base directory\n",
    "    image_files = []\n",
    "    for root, dirs, files in os.walk(base_dir):\n",
    "        for file in files:\n",
    "            if file.endswith('.png'):\n",
    "                image_files.append(file)\n",
    "\n",
    "    for image_file in tqdm(image_files, desc=\"Processing images\"):\n",
    "        multiclass_mask = np.zeros(image_size, dtype=np.uint8)\n",
    "        for class_id in class_dict.keys():\n",
    "            if class_id == 0:  # Not considering the background class\n",
    "                continue\n",
    "\n",
    "            class_dir = os.path.join(base_dir, str(class_id))\n",
    "            if not os.path.exists(class_dir):\n",
    "                continue\n",
    "\n",
    "            mask_path = os.path.join(class_dir, image_file)\n",
    "            if not os.path.exists(mask_path):\n",
    "                continue\n",
    "\n",
    "                # Load binary mask and resize\n",
    "            binary_mask = np.array(Image.open(mask_path).convert('L').resize(image_size))\n",
    "\n",
    "            # Add the binary mask to the multiclass mask\n",
    "            multiclass_mask[binary_mask > 127] = class_id\n",
    "\n",
    "        # Save the multiclass mask\n",
    "        output_path = os.path.join(output_dir, image_file)\n",
    "        Image.fromarray(multiclass_mask).save(output_path)"
   ],
   "id": "df394e1c54fafb33",
   "outputs": [],
   "execution_count": 37
  },
  {
   "metadata": {
    "ExecuteTime": {
     "end_time": "2024-06-26T12:59:58.754826Z",
     "start_time": "2024-06-26T12:59:58.639504Z"
    }
   },
   "cell_type": "code",
   "source": [
    "# Usage example\n",
    "data_dir = '/media/tiagociiic/easystore/RORD/debug/mask'\n",
    "out_dir = '/media/tiagociiic/easystore/RORD/debug/multiclass_mask'\n",
    "create_multiclass_mask(base_dir=data_dir, output_dir=out_dir, class_dict=coco_classes, image_size=(512, 512))"
   ],
   "id": "f159da0cbf254c3b",
   "outputs": [
    {
     "name": "stderr",
     "output_type": "stream",
     "text": [
      "Processing images: 100%|██████████| 10/10 [00:00<00:00, 96.70it/s]\n"
     ]
    }
   ],
   "execution_count": 38
  },
  {
   "metadata": {},
   "cell_type": "markdown",
   "source": "### Display a random multiclass segmentation mask",
   "id": "88143019a479e65d"
  },
  {
   "metadata": {
    "ExecuteTime": {
     "end_time": "2024-06-26T13:00:50.268688Z",
     "start_time": "2024-06-26T13:00:50.192702Z"
    }
   },
   "cell_type": "code",
   "source": [
    "print(f\"Number of multiclass masks created: {len(glob(out_dir + '/*.png'))}\")\n",
    "# plot a random mask from the output directory with color-coded COCO classes\n",
    "rnd_mask_path = np.random.choice(glob(out_dir + '/*.png'))\n",
    "mask = Image.open(rnd_mask_path)\n",
    "mask = np.array(mask)\n",
    "print(f\"Mask shape: {mask.shape}, max value: {mask.max()}, min value: {mask.min()}\")\n",
    "plt.figure(figsize=(6, 6))\n",
    "plt.imshow(mask, cmap='tab20', vmin=0, vmax=20)\n",
    "plt.show()"
   ],
   "id": "49ce5dcdcf21ca45",
   "outputs": [
    {
     "name": "stdout",
     "output_type": "stream",
     "text": [
      "Number of multiclass masks created: 10\n",
      "Mask shape: (512, 512), max value: 1, min value: 0\n"
     ]
    },
    {
     "data": {
      "text/plain": [
       "<Figure size 600x600 with 1 Axes>"
      ],
      "image/png": "[encoded data removed]"
     },
     "metadata": {},
     "output_type": "display_data"
    }
   ],
   "execution_count": 42
  }
 ],
 "metadata": {
  "kernelspec": {
   "display_name": "Python 3",
   "language": "python",
   "name": "python3"
  },
  "language_info": {
   "codemirror_mode": {
    "name": "ipython",
    "version": 2
   },
   "file_extension": ".py",
   "mimetype": "text/x-python",
   "name": "python",
   "nbconvert_exporter": "python",
   "pygments_lexer": "ipython2",
   "version": "2.7.6"
  }
 },
 "nbformat": 4,
 "nbformat_minor": 5
}
