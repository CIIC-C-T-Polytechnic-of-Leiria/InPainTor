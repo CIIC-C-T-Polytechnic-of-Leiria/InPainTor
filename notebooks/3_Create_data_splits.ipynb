{
 "cells": [
  {
   "metadata": {},
   "cell_type": "markdown",
   "source": "### Libraries",
   "id": "1fda31b964cfa697"
  },
  {
   "metadata": {
    "ExecuteTime": {
     "end_time": "2024-06-13T08:39:18.462406Z",
     "start_time": "2024-06-13T08:39:18.457910Z"
    }
   },
   "cell_type": "code",
   "source": [
    "import os\n",
    "import random\n",
    "import shutil"
   ],
   "id": "5b5d35dcc097a0c9",
   "outputs": [],
   "execution_count": 1
  },
  {
   "metadata": {},
   "cell_type": "markdown",
   "source": "### Data Splits",
   "id": "b5892eb2cfcff892"
  },
  {
   "metadata": {
    "ExecuteTime": {
     "end_time": "2024-06-13T08:39:18.476212Z",
     "start_time": "2024-06-13T08:39:18.473506Z"
    }
   },
   "cell_type": "code",
   "source": [
    "# Set the percentage of data to take\n",
    "valid_percentage = 0.2\n",
    "test_percentage = 0.1"
   ],
   "id": "7c773a1db42a6a93",
   "outputs": [],
   "execution_count": 2
  },
  {
   "metadata": {},
   "cell_type": "markdown",
   "source": "### Get the list of files in the train",
   "id": "ba1c75755c287c"
  },
  {
   "metadata": {
    "ExecuteTime": {
     "end_time": "2024-06-13T08:39:21.131037Z",
     "start_time": "2024-06-13T08:39:20.363815Z"
    }
   },
   "cell_type": "code",
   "source": [
    "# Existing train split directories\n",
    "external_disk_path = \"/media/tiagociiic/easystore\"\n",
    "split = 'train'\n",
    "dataset_dir = os.path.join(external_disk_path, \"RORD\")\n",
    "train_dir = os.path.join(dataset_dir, split)\n",
    "img_dir = os.path.join(train_dir, 'img')\n",
    "gt_dir = os.path.join(train_dir, 'gt')\n",
    "mask_dir = os.path.join(train_dir, 'mask')\n",
    "\n",
    "# Get the list of image files\n",
    "img_files = [f for f in os.listdir(img_dir) if f.endswith('.jpg')]\n",
    "gt_files = [f for f in os.listdir(gt_dir) if f.endswith('.jpg')]\n",
    "mask_files = [f for f in os.listdir(mask_dir) if f.endswith('.png')]\n",
    "\n",
    "# Get the common file names\n",
    "common_files = set(os.path.splitext(f)[0] for f in img_files) & set(os.path.splitext(f)[0] for f in gt_files) & set(\n",
    "    os.path.splitext(f)[0] for f in mask_files)\n"
   ],
   "id": "b6aa4634c6591aa",
   "outputs": [],
   "execution_count": 3
  },
  {
   "metadata": {},
   "cell_type": "markdown",
   "source": "### Create the new directories",
   "id": "b74101333b97bb9c"
  },
  {
   "metadata": {
    "ExecuteTime": {
     "end_time": "2024-06-13T08:40:03.361759Z",
     "start_time": "2024-06-13T08:40:03.358257Z"
    }
   },
   "cell_type": "code",
   "source": [
    "# Create the new directories\n",
    "valid_dir = os.path.join(dataset_dir, 'valid')\n",
    "test_dir = os.path.join(dataset_dir, 'test')\n",
    "sub_dirs = ['img', 'gt', 'mask']\n",
    "\n",
    "for sub_dir in sub_dirs:\n",
    "    os.makedirs(os.path.join(valid_dir, sub_dir), exist_ok=True)\n",
    "    os.makedirs(os.path.join(test_dir, sub_dir), exist_ok=True)"
   ],
   "id": "f74fb865bdaacc37",
   "outputs": [],
   "execution_count": 4
  },
  {
   "metadata": {},
   "cell_type": "markdown",
   "source": "### Take 20 % of the common files for validation",
   "id": "75014920fcb24a9c"
  },
  {
   "metadata": {
    "jupyter": {
     "is_executing": true
    },
    "ExecuteTime": {
     "start_time": "2024-06-13T08:40:17.809446Z"
    }
   },
   "cell_type": "code",
   "source": [
    "num_files = int(len(common_files) * valid_percentage)\n",
    "files_to_take = random.sample(list(common_files), num_files)\n",
    "\n",
    "# Copy the files to the validation directories\n",
    "for file in files_to_take:\n",
    "    img_file = os.path.join(img_dir, file + '.jpg')\n",
    "    gt_file = os.path.join(gt_dir, file + '.jpg')\n",
    "    mask_file = os.path.join(mask_dir, file + '.png')\n",
    "    shutil.copy(img_file, os.path.join(valid_dir, 'img'))\n",
    "    shutil.copy(gt_file, os.path.join(valid_dir, 'gt'))\n",
    "    shutil.copy(mask_file, os.path.join(valid_dir, 'mask'))\n",
    "\n",
    "print(f\"Copied {num_files} files to the validation split\")"
   ],
   "id": "8c2f958c38661f63",
   "outputs": [],
   "execution_count": null
  },
  {
   "metadata": {},
   "cell_type": "markdown",
   "source": "### Take 10 % of the common files for testing",
   "id": "9cd77d135373f01c"
  },
  {
   "metadata": {
    "jupyter": {
     "is_executing": true
    }
   },
   "cell_type": "code",
   "source": [
    "# Take a percentage of the remaining common files for testing\n",
    "remaining_files = list(common_files - set(files_to_take))\n",
    "num_files = int(len(remaining_files) * test_percentage)\n",
    "files_to_take = random.sample(remaining_files, num_files)\n",
    "\n",
    "# Copy the files to the test directories\n",
    "for file in files_to_take:\n",
    "    img_file = os.path.join(img_dir, file + '.jpg')\n",
    "    gt_file = os.path.join(gt_dir, file + '.jpg')\n",
    "    mask_file = os.path.join(mask_dir, file + '.png')\n",
    "    shutil.copy(img_file, os.path.join(test_dir, 'img'))\n",
    "    shutil.copy(gt_file, os.path.join(test_dir, 'gt'))\n",
    "    shutil.copy(mask_file, os.path.join(test_dir, 'mask'))\n",
    "\n",
    "print(f\"Copied {num_files} files to the test split\")"
   ],
   "id": "2672c8e50d88613c",
   "outputs": [],
   "execution_count": null
  }
 ],
 "metadata": {
  "kernelspec": {
   "display_name": "Python 3",
   "language": "python",
   "name": "python3"
  },
  "language_info": {
   "codemirror_mode": {
    "name": "ipython",
    "version": 2
   },
   "file_extension": ".py",
   "mimetype": "text/x-python",
   "name": "python",
   "nbconvert_exporter": "python",
   "pygments_lexer": "ipython2",
   "version": "2.7.6"
  }
 },
 "nbformat": 4,
 "nbformat_minor": 5
}
