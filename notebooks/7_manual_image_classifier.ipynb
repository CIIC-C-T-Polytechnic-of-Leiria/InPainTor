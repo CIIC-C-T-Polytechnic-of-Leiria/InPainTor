{
 "cells": [
  {
   "metadata": {},
   "cell_type": "markdown",
   "source": "## Libraries",
   "id": "6124645a77f0e58"
  },
  {
   "metadata": {
    "ExecuteTime": {
     "end_time": "2024-06-27T19:03:43.241085Z",
     "start_time": "2024-06-27T19:03:43.217625Z"
    }
   },
   "cell_type": "code",
   "source": [
    "\n",
    "from tkinter import *\n",
    "from tkinter import filedialog\n",
    "\n",
    "from PIL import Image, ImageTk"
   ],
   "id": "79def04973aabb2c",
   "outputs": [],
   "execution_count": 1
  },
  {
   "metadata": {
    "ExecuteTime": {
     "end_time": "2024-06-27T19:11:30.304333Z",
     "start_time": "2024-06-27T19:03:56.295735Z"
    }
   },
   "cell_type": "code",
   "source": [
    "class ImageClassifier:\n",
    "    def __init__(self, master):\n",
    "        self.master = master\n",
    "        self.master.title(\"Image Classifier\")\n",
    "\n",
    "        self.source_folder = \"\"\n",
    "        self.current_image_index = 0\n",
    "        self.image_list = []\n",
    "\n",
    "        # Create UI elements\n",
    "        self.image_label = Label(master)\n",
    "        self.image_label.pack()\n",
    "\n",
    "        self.select_folder_button = Button(master, text=\"Select Folder\", command=self.select_folder)\n",
    "        self.select_folder_button.pack()\n",
    "\n",
    "        self.button_frame = Frame(master)\n",
    "        self.button_frame.pack()\n",
    "\n",
    "        # Create buttons for COCO classes (0-79)\n",
    "        for i in range(80):\n",
    "            btn = Button(self.button_frame, text=str(i), command=lambda x=i: self.classify_image(x))\n",
    "            btn.grid(row=i // 10, column=i % 10)\n",
    "\n",
    "        self.next_button = Button(master, text=\"Next Image\", command=self.next_image)\n",
    "        self.next_button.pack()\n",
    "\n",
    "    def select_folder(self):\n",
    "        self.source_folder = filedialog.askdirectory()\n",
    "        self.image_list = [f for f in os.listdir(self.source_folder) if f.lower().endswith(('.png', '.jpg', '.jpeg'))]\n",
    "        self.current_image_index = 0\n",
    "        self.show_image()\n",
    "\n",
    "    def show_image(self):\n",
    "        if self.current_image_index < len(self.image_list):\n",
    "            image_path = os.path.join(self.source_folder, self.image_list[self.current_image_index])\n",
    "            image = Image.open(image_path)\n",
    "            image.thumbnail((400, 400))  # Resize image to fit in the window\n",
    "            photo = ImageTk.PhotoImage(image)\n",
    "            self.image_label.config(image=photo)\n",
    "            self.image_label.image = photo\n",
    "        else:\n",
    "            self.image_label.config(image=None, text=\"No more images\")\n",
    "\n",
    "    def classify_image(self, class_num):\n",
    "        if self.current_image_index < len(self.image_list):\n",
    "            source_path = os.path.join(self.source_folder, self.image_list[self.current_image_index])\n",
    "            dest_folder = os.path.join(self.source_folder, str(class_num))\n",
    "\n",
    "            if not os.path.exists(dest_folder):\n",
    "                os.makedirs(dest_folder)\n",
    "\n",
    "            shutil.move(source_path, os.path.join(dest_folder, self.image_list[self.current_image_index]))\n",
    "            self.next_image()\n",
    "\n",
    "    def next_image(self):\n",
    "        self.current_image_index += 1\n",
    "        self.show_image()\n",
    "\n",
    "\n",
    "root = Tk()\n",
    "app = ImageClassifier(root)\n",
    "root.mainloop()"
   ],
   "id": "d635bdc39a39ba1b",
   "outputs": [],
   "execution_count": 2
  },
  {
   "metadata": {
    "ExecuteTime": {
     "end_time": "2024-06-27T23:39:47.478352Z",
     "start_time": "2024-06-27T23:39:47.474927Z"
    }
   },
   "cell_type": "code",
   "source": [
    "# Define the base directory and the subdirectories\n",
    "base_dir = '/media/tiagociiic/easystore/RORD'\n",
    "sub_dirs = ['multiclass_mask', 'gt', 'img']\n",
    "splits = ['train', 'val', 'test']\n",
    "\n",
    "# print the directory structure\n",
    "for split in splits:\n",
    "    for sub_dir in sub_dirs:\n",
    "        print(f'{base_dir}/{split}/{sub_dir}')"
   ],
   "id": "a163e744b5c7d5ee",
   "outputs": [
    {
     "name": "stdout",
     "output_type": "stream",
     "text": [
      "/media/tiagociiic/easystore/RORD/train/multiclass_mask\n",
      "/media/tiagociiic/easystore/RORD/train/gt\n",
      "/media/tiagociiic/easystore/RORD/train/img\n",
      "/media/tiagociiic/easystore/RORD/val/multiclass_mask\n",
      "/media/tiagociiic/easystore/RORD/val/gt\n",
      "/media/tiagociiic/easystore/RORD/val/img\n",
      "/media/tiagociiic/easystore/RORD/test/multiclass_mask\n",
      "/media/tiagociiic/easystore/RORD/test/gt\n",
      "/media/tiagociiic/easystore/RORD/test/img\n"
     ]
    }
   ],
   "execution_count": 10
  },
  {
   "metadata": {
    "ExecuteTime": {
     "end_time": "2024-06-27T23:57:45.325490Z",
     "start_time": "2024-06-27T23:56:08.214633Z"
    }
   },
   "cell_type": "code",
   "source": [
    "import shutil\n",
    "import os\n",
    "\n",
    "# Define the base directory and the subdirectories\n",
    "base_dir = '/media/tiagociiic/easystore/RORD'\n",
    "sub_dirs = ['multiclass_mask']\n",
    "split = ['train']\n",
    "\n",
    "# Iterate over each split (val, test)\n",
    "for s in split:\n",
    "    # Iterate over each subdirectory (multiclass_mask)\n",
    "    for sub_dir in sub_dirs:\n",
    "        source_folder = os.path.join(base_dir, s, sub_dir, '1')\n",
    "        dest_folder = os.path.join(base_dir, s, sub_dir)\n",
    "\n",
    "        for f in os.listdir(source_folder):\n",
    "            shutil.move(os.path.join(source_folder, f), dest_folder)"
   ],
   "id": "34137a4afe9427d",
   "outputs": [],
   "execution_count": 17
  },
  {
   "metadata": {
    "ExecuteTime": {
     "end_time": "2024-06-27T23:57:45.328761Z",
     "start_time": "2024-06-27T23:57:45.326590Z"
    }
   },
   "cell_type": "code",
   "source": [
    "# delete the empty folders\n",
    "for s in split:\n",
    "    for sub_dir in sub_dirs:\n",
    "        os.rmdir(os.path.join(base_dir, s, sub_dir, '1'))"
   ],
   "id": "8236be13e875bb2",
   "outputs": [],
   "execution_count": 18
  }
 ],
 "metadata": {
  "kernelspec": {
   "display_name": "Python 3",
   "language": "python",
   "name": "python3"
  },
  "language_info": {
   "codemirror_mode": {
    "name": "ipython",
    "version": 2
   },
   "file_extension": ".py",
   "mimetype": "text/x-python",
   "name": "python",
   "nbconvert_exporter": "python",
   "pygments_lexer": "ipython2",
   "version": "2.7.6"
  }
 },
 "nbformat": 4,
 "nbformat_minor": 5
}
