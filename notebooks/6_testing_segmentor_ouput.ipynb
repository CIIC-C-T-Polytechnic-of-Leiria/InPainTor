{
 "cells": [
  {
   "metadata": {},
   "cell_type": "markdown",
   "source": "### Libraries",
   "id": "3608f714fec552f0"
  },
  {
   "metadata": {
    "ExecuteTime": {
     "end_time": "2024-06-27T16:22:33.484386Z",
     "start_time": "2024-06-27T16:22:33.482064Z"
    }
   },
   "cell_type": "code",
   "source": [
    "import matplotlib.pyplot as plt\n",
    "import numpy as np\n",
    "import torch"
   ],
   "id": "e858fe851ae12cdf",
   "outputs": [],
   "execution_count": 3
  },
  {
   "metadata": {
    "ExecuteTime": {
     "end_time": "2024-06-27T16:26:18.905870Z",
     "start_time": "2024-06-27T16:26:18.173283Z"
    }
   },
   "cell_type": "code",
   "source": [
    "# Set the tensor shape\n",
    "B, C, H, W = 2, 80, 256, 256\n",
    "\n",
    "# Create a tensor with random geometric figures\n",
    "tensor = torch.zeros((B, C, H, W))\n",
    "\n",
    "# Define a list of geometric figures to draw\n",
    "figures = ['circle', 'square', 'triangle']\n",
    "\n",
    "# Loop through each batch and channel\n",
    "for b in range(B):\n",
    "    for c in range(C):\n",
    "        # Randomly select a geometric figure\n",
    "        figure = np.random.choice(figures)\n",
    "\n",
    "        # Draw the geometric figure\n",
    "        if figure == 'circle':\n",
    "            radius = np.random.randint(20, 70)\n",
    "            x, y = np.random.randint(0, H - radius), np.random.randint(0, W - radius)\n",
    "            for i in range(x, x + radius):\n",
    "                for j in range(y, y + radius):\n",
    "                    if (i - x) ** 2 + (j - y) ** 2 <= radius ** 2:\n",
    "                        tensor[b, c, i, j] = 1\n",
    "        elif figure == 'square':\n",
    "            size = np.random.randint(20, 70)\n",
    "            x, y = np.random.randint(0, H - size), np.random.randint(0, W - size)\n",
    "            tensor[b, c, x:x + size, y:y + size] = 1\n",
    "        elif figure == 'triangle':\n",
    "            size = np.random.randint(20, 70)\n",
    "            x, y = np.random.randint(0, H - size), np.random.randint(0, W - size)\n",
    "            for i in range(x, x + size):\n",
    "                for j in range(y, y + size):\n",
    "                    if i - x <= j - y:\n",
    "                        tensor[b, c, i, j] = 1\n",
    "\n",
    "# Print the tensor shape\n",
    "print(tensor.shape)"
   ],
   "id": "388deae7511ec5ad",
   "outputs": [
    {
     "name": "stdout",
     "output_type": "stream",
     "text": [
      "torch.Size([2, 80, 256, 256])\n"
     ]
    }
   ],
   "execution_count": 7
  },
  {
   "metadata": {
    "jupyter": {
     "is_executing": true
    }
   },
   "cell_type": "code",
   "source": [
    "fig, axs = plt.subplots(10, 8, figsize=(10, 12))\n",
    "for i in range(10):\n",
    "    for j in range(8):\n",
    "        idx = i * 8 + j\n",
    "        axs[i, j].imshow(tensor[0, idx].numpy())\n",
    "        axs[i, j].set_xticks([])\n",
    "        axs[i, j].set_yticks([])\n",
    "        axs[i, j].set_title(str(idx), fontsize=6)  # reduce title font size\n",
    "plt.tight_layout()\n",
    "plt.savefig('..outputs/debug/channels.png', dpi=300)  # save to file\n",
    "plt.show()"
   ],
   "id": "a8aae44724ef11e3",
   "outputs": [],
   "execution_count": null
  }
 ],
 "metadata": {
  "kernelspec": {
   "display_name": "Python 3",
   "language": "python",
   "name": "python3"
  },
  "language_info": {
   "codemirror_mode": {
    "name": "ipython",
    "version": 2
   },
   "file_extension": ".py",
   "mimetype": "text/x-python",
   "name": "python",
   "nbconvert_exporter": "python",
   "pygments_lexer": "ipython2",
   "version": "2.7.6"
  }
 },
 "nbformat": 4,
 "nbformat_minor": 5
}
